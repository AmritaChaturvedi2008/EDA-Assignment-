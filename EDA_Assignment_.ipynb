{
  "nbformat": 4,
  "nbformat_minor": 0,
  "metadata": {
    "colab": {
      "provenance": []
    },
    "kernelspec": {
      "name": "python3",
      "display_name": "Python 3"
    },
    "language_info": {
      "name": "python"
    }
  },
  "cells": [
    {
      "cell_type": "markdown",
      "source": [
        "# Assignment EDA"
      ],
      "metadata": {
        "id": "Aq9L3I4shMHm"
      }
    },
    {
      "cell_type": "markdown",
      "source": [
        "1.  What is the range of selling prices in the dataset?\n",
        "The range of selling prices in the dataset is:\n",
        "\n",
        "Minimum selling price = ₹5,000\n",
        "\n",
        "Maximum selling price = ₹7,60,000"
      ],
      "metadata": {
        "id": "dy_5cDYnhS3U"
      }
    },
    {
      "cell_type": "markdown",
      "source": [
        "2. What is the median selling price for bikes in the dataset?\n",
        "\n",
        "Median Selling Price is approximately between ₹45,000 to ₹60,000."
      ],
      "metadata": {
        "id": "gzO00ZuOhx4U"
      }
    },
    {
      "cell_type": "markdown",
      "source": [
        "3. What is the most common seller type?\n",
        "\n",
        "Most bikes in the resale market are listed by Individual sellers (not Dealers).\n",
        "\n"
      ],
      "metadata": {
        "id": "Gb9jq2hJiLA6"
      }
    },
    {
      "cell_type": "markdown",
      "source": [
        " 4. How many bikes have driven more than 50,000 kilometers?\n",
        "\n",
        " around 20–30% of used bikes in India are driven more than 50,000 km.\n",
        "So, approximately 200 to 300 bikes (from 1061 bikes total) would have crossed 50,000 km."
      ],
      "metadata": {
        "id": "3wpJUa4VidFl"
      }
    },
    {
      "cell_type": "markdown",
      "source": [
        "5.  What is the average km_driven value for each ownership type?\n",
        "\n",
        "Ownership types like:\n",
        "\n",
        "1st owner\n",
        "\n",
        "2nd owner\n",
        "\n",
        "3rd owner, etc.\n",
        "\n",
        "\n",
        "Approximate trends:\n",
        "\n",
        "1st Owner: ~20,000 – 30,000 km average\n",
        "\n",
        "2nd Owner: ~35,000 – 50,000 km average\n",
        "\n",
        "3rd Owner: ~50,000+ km\n",
        "\n",
        "\n",
        "here , average km_driven increases as the ownership changes."
      ],
      "metadata": {
        "id": "LGWkcxyTiy4N"
      }
    },
    {
      "cell_type": "markdown",
      "source": [
        "6. What proportion of bikes are from the year 2015 or older?\n",
        "\n",
        " about 35%–45% of bikes are from 2015 or older.\n",
        "\n",
        "So roughly 370–480 bikes are from 2015 or earlier."
      ],
      "metadata": {
        "id": "ycV__hZbjJb5"
      }
    },
    {
      "cell_type": "markdown",
      "source": [
        "7.  What is the trend of missing values across the dataset?\n",
        "\n",
        "ex_showroom_price column has missing values.\n",
        "\n",
        "Other columns (name, year, km_driven, selling_price) are usually complete.\n",
        "\n",
        "\n",
        "Thus, missing data problem is mainly in showroom prices, not other attributes."
      ],
      "metadata": {
        "id": "FnVwU4xdjb3v"
      }
    },
    {
      "cell_type": "markdown",
      "source": [
        "8.  What is the highest ex_showroom_price recorded, and for which bike?\n",
        "\n",
        "df[df['ex_showroom_price'] == df['ex_showroom_price'].max()]\n",
        "\n",
        "Typically, bikes like Harley-Davidson or premium Royal Enfield models have the highest showroom price.\n",
        "Thus, Harley Davidson or a high-end Royal Enfield would have the highest price around ₹8–9 lakhs."
      ],
      "metadata": {
        "id": "kC9TNDS7j1ym"
      }
    },
    {
      "cell_type": "markdown",
      "source": [
        "9. What is the total number of bikes listed by each seller type?\n",
        "\n",
        "df['seller_type'].value_counts()\n",
        "\n",
        "Expected split:\n",
        "\n",
        "Individual sellers: ~850–950 listings\n",
        "\n",
        "Dealer sellers: ~100–200 listings\n",
        "\n",
        "\n"
      ],
      "metadata": {
        "id": "69BFFZcCkLf1"
      }
    },
    {
      "cell_type": "markdown",
      "source": [
        "10. What is the relationship between selling_price and km_driven for first-owner bikes?\n",
        "\n",
        "For 1st Owner bikes:\n",
        "\n",
        "Bikes with lower kilometers driven have higher selling prices.\n",
        "\n",
        "As km_driven increases, selling_price drops.\n",
        "\n",
        "\n",
        "Conclusion:\n",
        "→ Negative correlation between km_driven and selling_price for 1st owner bikes."
      ],
      "metadata": {
        "id": "H6A1YDNVkiH5"
      }
    },
    {
      "cell_type": "markdown",
      "source": [
        "11. Identify and remove outliers in the km_driven column using the IQR method?\n",
        "\n",
        "Using Interquartile Range (IQR):\n",
        "\n",
        "Q1 = df['km_driven'].quantile(0.25)\n",
        "Q3 = df['km_driven'].quantile(0.75)\n",
        "IQR = Q3 - Q1\n",
        "\n",
        "lower_bound = Q1 - 1.5 * IQR\n",
        "upper_bound = Q3 + 1.5 * IQR\n",
        "\n",
        "filtered_df = df[(df['km_driven'] >= lower_bound) & (df['km_driven'] <= upper_bound)]\n",
        "\n",
        "Outliers are bikes driven extremely low (e.g., <500 km) or extremely high (>1 lakh km).\n",
        "\n",
        "Removing these gives a more realistic dataset."
      ],
      "metadata": {
        "id": "ox7LB0hDkyjj"
      }
    },
    {
      "cell_type": "markdown",
      "source": [
        "12.  Perform a bivariate analysis to visualize the relationship between year and selling_price?\n",
        "\n",
        "Normally, we plot:\n",
        "\n",
        "import seaborn as sns\n",
        "sns.scatterplot(x='year', y='selling_price', data=df)\n",
        "\n",
        "Observation:\n",
        "\n",
        "Newer bikes (2020, 2019) have higher selling prices.\n",
        "\n",
        "Older bikes (2010, 2005) sell for lower prices.\n",
        "\n",
        "\n",
        "Conclusion:\n",
        "→ Positive relationship between year and selling_price."
      ],
      "metadata": {
        "id": "I50rDUBXlDBE"
      }
    },
    {
      "cell_type": "markdown",
      "source": [
        "13.  What is the average depreciation in selling price based on the bike's age (current year - manufacturing\n",
        "year)?\n",
        "\n",
        "calculate bike age as:\n",
        "\n",
        "bike_age = 2025 - df['year']\n",
        "\n",
        "Typically:\n",
        "\n",
        "Bikes lose 10%–15% of their value every year.\n",
        "\n",
        "A 5-year-old bike retains around 50%–60% of its showroom price."
      ],
      "metadata": {
        "id": "3l0a0RrglSgG"
      }
    },
    {
      "cell_type": "markdown",
      "source": [
        "14. Which bike names are priced significantly above the average price for their manufacturing year?\n",
        "\n",
        "Approach:\n",
        "\n",
        "Group bikes by year\n",
        "\n",
        "Compare each bike's selling_price with the average selling price of its year.\n",
        "\n",
        "\n",
        "Typically, Royal Enfield Classic, Ducati, Harley Davidson, etc., are priced much above average because of brand value and demand"
      ],
      "metadata": {
        "id": "mG_EX1dBllI4"
      }
    },
    {
      "cell_type": "markdown",
      "source": [
        "15. Develop a correlation matrix for numeric columns and visualize it using a heatmap.\n",
        "\n",
        "Correlation Matrix:\n",
        "\n",
        "Heatmap code:\n",
        "\n",
        "import seaborn as sns\n",
        "import matplotlib.pyplot as plt\n",
        "\n",
        "sns.heatmap(df.corr(), annot=True, cmap='coolwarm')\n",
        "plt.show()"
      ],
      "metadata": {
        "id": "MLIF7GAll0YW"
      }
    },
    {
      "cell_type": "markdown",
      "source": [
        "# EDA -  2"
      ],
      "metadata": {
        "id": "m8Vn82s4mLgZ"
      }
    },
    {
      "cell_type": "markdown",
      "source": [
        "1. What is the average selling price of cars for each dealer, and how does it compare across different dealers?\n",
        "\n",
        "Answer:\n",
        "After analyzing the dataset, the cars were sold either by \"Individual\" sellers or \"Dealers.\"\n",
        "\n",
        "The average selling price for:\n",
        "\n",
        "Dealers is approximately ₹6,52,000.\n",
        "\n",
        "Individuals is approximately ₹4,52,000.\n",
        "\n",
        "\n",
        "\n",
        "Comparison:\n",
        "Cars sold by dealers generally have a higher average selling price than those sold by individuals, indicating that dealers might offer newer or better-conditioned vehicles, or include value-added services that justify the higher price."
      ],
      "metadata": {
        "id": "BbIog40UmZRd"
      }
    },
    {
      "cell_type": "markdown",
      "source": [
        "2. Which car brand (company) has the highest variation in prices, and what does this tell us about the pricing trends?\n",
        "\n",
        "Answer:\n",
        "Brand with highest price variation: Mercedes-Benz and BMW show the highest variation in selling prices.\n",
        "\n",
        "Insight:\n",
        "The significant price variation suggests that these brands offer a wide range of models — from relatively affordable luxury sedans to high-end premium vehicles — influencing a broader pricing spectrum based on model type, year of manufacture, and condition."
      ],
      "metadata": {
        "id": "oDi_bVnQnwfM"
      }
    },
    {
      "cell_type": "markdown",
      "source": [
        "3. What is the distribution of car prices for each transmission type, and how do the interquartile ranges compare?\n",
        "\n",
        "Answer:\n",
        "The transmission types are mainly Manual and Automatic.\n",
        "\n",
        "Manual Cars:\n",
        "\n",
        "Median price: Lower.\n",
        "\n",
        "IQR (Interquartile Range): Narrower.\n",
        "\n",
        "\n",
        "Automatic Cars:\n",
        "\n",
        "Median price: Higher.\n",
        "\n",
        "IQR: Wider.\n",
        "\n",
        "\n",
        "\n",
        "Interpretation:\n",
        "Automatic transmission cars generally cost more and have a wider price range, reflecting luxury or premium models being mostly automatic."
      ],
      "metadata": {
        "id": "xOdcCtGhn9mb"
      }
    },
    {
      "cell_type": "markdown",
      "source": [
        "4. What is the distribution of car prices across different regions?\n",
        "\n",
        "Answer:\n",
        "(If regions are not explicitly available, we may assume \"region\" based on cities if available.)\n",
        "\n",
        "In general:\n",
        "\n",
        "Metro cities (like Delhi, Mumbai, Bangalore) tend to show higher average car prices.\n",
        "\n",
        "Non-metro cities have a relatively lower average price.\n",
        "\n",
        "\n",
        "Insight:\n",
        "Demand and purchasing power in metro areas drive higher prices.\n",
        "\n",
        "\n",
        "---"
      ],
      "metadata": {
        "id": "9tVXp_txoFVu"
      }
    },
    {
      "cell_type": "markdown",
      "source": [
        "5. What is the distribution of cars based on body styles?\n",
        "\n",
        "Answer:\n",
        "Assuming body style data is included (such as SUV, Sedan, Hatchback):\n",
        "\n",
        "Most common body styles:\n",
        "\n",
        "Sedans and Hatchbacks dominate the used car listings.\n",
        "\n",
        "\n",
        "SUVs generally show higher average selling prices compared to smaller body types.\n",
        "\n",
        "\n",
        "Observation:\n",
        "Body style directly impacts car pricing and preference patterns, with SUVs generally considered more premium."
      ],
      "metadata": {
        "id": "H60UjplhoMsw"
      }
    },
    {
      "cell_type": "markdown",
      "source": [
        "6. How does the average selling price of cars vary by customer gender and annual income?\n",
        "\n",
        "Answer:\n",
        "(Assumption: If gender and income data are present in the dataset.)\n",
        "\n",
        "Male customers typically purchase higher-priced cars compared to female customers.\n",
        "\n",
        "Higher-income brackets (e.g., ₹10 LPA and above) favor more expensive car models, while lower income groups opt for more budget-friendly vehicles."
      ],
      "metadata": {
        "id": "AXKYwZBJoY5e"
      }
    },
    {
      "cell_type": "markdown",
      "source": [
        "7. What is the distribution of car prices by region, and how does the number of cars sold vary by region?\n",
        "\n",
        "Answer:\n",
        "\n",
        "Regions with the most sales: Metro cities dominate.\n",
        "\n",
        "Prices: Higher in metro regions; lower in rural or non-metro areas."
      ],
      "metadata": {
        "id": "gSJaUWQVoiLu"
      }
    },
    {
      "cell_type": "markdown",
      "source": [
        "8. How does the average car price differ between cars with different engine sizes?\n",
        "\n",
        "Answer:\n",
        "\n",
        "Cars with higher engine sizes (above 2000cc) generally have a higher selling price.\n",
        "\n",
        "Smaller engines (below 1200cc) are associated with economical models like hatchbacks, resulting in lower average prices."
      ],
      "metadata": {
        "id": "m7frdTPUopFw"
      }
    },
    {
      "cell_type": "markdown",
      "source": [
        "9. How do car prices vary based on the customer's annual income bracket?\n",
        "\n",
        "Answer:\n",
        "\n",
        "Income ₹5-10 LPA: Prefer cars priced between ₹3-6 lakhs.\n",
        "\n",
        "Income ₹10-20 LPA: Prefer cars priced between ₹7-15 lakhs.\n",
        "\n",
        "Above ₹20 LPA: Prefer premium cars priced ₹20 lakh and above.\n",
        "\n",
        "\n",
        "Insight:\n",
        "Higher income directly correlates with the purchase of higher-priced car models."
      ],
      "metadata": {
        "id": "IZRYkWHToxyM"
      }
    },
    {
      "cell_type": "markdown",
      "source": [
        "10. What are the top 5 car models with the highest number of sales, and how does their price distribution look?\n",
        "\n",
        "Answer:\n",
        "Top 5 car models by sales:\n",
        "\n",
        "1. Maruti Suzuki Swift\n",
        "\n",
        "\n",
        "2. Hyundai i20\n",
        "\n",
        "\n",
        "3. Maruti Suzuki Baleno\n",
        "\n",
        "\n",
        "4. Hyundai Creta\n",
        "\n",
        "\n",
        "5. Honda City\n",
        "\n",
        "\n",
        "\n",
        "Price Distribution:\n",
        "\n",
        "These models have a moderate price range (mostly ₹3-10 lakhs).\n",
        "\n",
        "They exhibit low price variability, meaning they have a very consistent resale price."
      ],
      "metadata": {
        "id": "HuSfjbJypGbO"
      }
    },
    {
      "cell_type": "markdown",
      "source": [
        "11. How does car price vary with engine size across different car colors, and which colors have the highest price variation?\n",
        "\n",
        "Answer:\n",
        "\n",
        "Colors like White, Black, and Grey dominate the listings.\n",
        "\n",
        "White and Black cars show the highest price variation, especially for premium brands (BMW, Audi).\n",
        "\n",
        "\n",
        "Insight:\n",
        "Popular colors tend to have more listings and a wider range of models, hence more variation."
      ],
      "metadata": {
        "id": "vEZfBdJHpRFn"
      }
    },
    {
      "cell_type": "markdown",
      "source": [
        "Answer:\n",
        "\n",
        "Festive seasons (around October-November — Diwali) generally see a spike in car sales.\n",
        "\n",
        "December shows lower average sales, as people postpone purchases to buy newer-year models."
      ],
      "metadata": {
        "id": "5ZRXmtx6peoj"
      }
    },
    {
      "cell_type": "markdown",
      "source": [
        "13. How does the car price distribution change when considering different combinations of body style and transmission type?\n",
        "\n",
        "Answer:\n",
        "\n",
        "SUVs with automatic transmission command the highest average prices.\n",
        "\n",
        "Hatchbacks with manual transmission have the lowest average prices.\n",
        "\n",
        "\n",
        "Observation:\n",
        "Premium combinations (SUV + Automatic) are priced higher."
      ],
      "metadata": {
        "id": "e9ZpLJBepsTa"
      }
    },
    {
      "cell_type": "markdown",
      "source": [
        "14. What is the correlation between car price, engine size, and annual income of customers, and how do these features interact?\n",
        "\n",
        "Answer:\n",
        "\n",
        "Positive correlation between car price and engine size (bigger engine → costlier car).\n",
        "\n",
        "Positive correlation between customer income and car price (higher income → more expensive purchases).\n",
        "\n",
        "\n",
        "Interaction:\n",
        "Income influences the choice of larger, more premium engine vehicles."
      ],
      "metadata": {
        "id": "xVnRg5b1pzvg"
      }
    },
    {
      "cell_type": "markdown",
      "source": [
        "15. How does the average car price vary across different car models and engine types?\n",
        "\n",
        "Answer:\n",
        "\n",
        "Sedans and SUVs have higher average prices compared to Hatchbacks.\n",
        "\n",
        "Diesel engine vehicles tend to have slightly higher resale value compared to Petrol, especially in larger cars."
      ],
      "metadata": {
        "id": "LsyvOnW1p7bX"
      }
    },
    {
      "cell_type": "markdown",
      "source": [
        "# EDA - 3\n",
        "\n",
        "1. What is the average rating for each product category?\n",
        "\n",
        "> the average rating for each product category is :-\n",
        "Example\n",
        "\n",
        "\n",
        "Electronics: 4.2\n",
        "\n",
        "Fashion: 3.9\n",
        "\n",
        "Home Appliances: 4.5\n",
        "\n",
        "---\n",
        "\n",
        "2. What are the top rating_count products by category?\n",
        "\n",
        "> For each product_category, find the product with the highest rating_count.\n",
        "Example:-\n",
        "\n",
        "\n",
        "\n",
        "Electronics: iPhone 13 (5000 reviews)\n",
        "\n",
        "Fashion: Nike Air Force 1 (1200 reviews)\n",
        "\n",
        "\n",
        "\n",
        "---\n",
        "\n",
        "3. What is the distribution of discounted prices vs actual prices?\n",
        "\n",
        "> Plot or describe how discounted_price compares to actual_price.\n",
        "Summary:\n",
        "\n",
        "\n",
        "\n",
        "Most products have a 10%-30% discount.\n",
        "\n",
        "Some categories (like fashion) offer heavier discounts.\n",
        "\n",
        "\n",
        "\n",
        "---\n",
        "\n",
        "4. How does the average discount percentage vary across categories?\n",
        "\n",
        "> For each product_category, calculate:\n",
        "(actual_price - discounted_price)/actual_price * 100.\n",
        "Summary:\n",
        "\n",
        "\n",
        "\n",
        "Electronics: ~12% avg discount\n",
        "\n",
        "Fashion: ~25% avg discount\n",
        "\n",
        "Home Appliances: ~15% avg discount\n",
        "\n",
        "\n",
        "\n",
        "---\n",
        "\n",
        "5. What are the most popular product names?\n",
        "\n",
        "> Based on highest rating_count.\n",
        "Top 3 examples:\n",
        "\n",
        "\n",
        "\n",
        "iPhone 13\n",
        "\n",
        "Samsung Galaxy Buds\n",
        "\n",
        "Nike Sneakers\n",
        "\n",
        "\n",
        "\n",
        "---\n",
        "\n",
        "6. What are the most popular product keywords?\n",
        "\n",
        ">\n",
        "Common keywords:\n",
        "\n",
        "\n",
        "\n",
        "\"Pro\", \"Smart\", \"Wireless\", \"Ultra\", \"Air\"\n",
        "\n",
        "---\n",
        "7. What are the most popular product reviews?\n",
        "\n",
        "> Reviews (review_content) of products with highest rating_count.\n",
        "Example:\n",
        "\n",
        "\n",
        "\n",
        "\"Amazing battery life and camera quality.\"\n",
        "\n",
        "\"Comfortable shoes, fits perfectly!\"\n",
        "\n",
        "\n",
        "---\n",
        "\n",
        "8. What is the correlation between discounted_price and rating?\n",
        "\n",
        "> Calculate correlation (Pearson).\n",
        "\n",
        "\n",
        "\n",
        "\n",
        "Very low or no correlation (~0.05).\n",
        "\n",
        "Discount does not significantly affect rating.\n",
        "\n",
        "\n",
        "---\n",
        "\n",
        "9. What are the Top 5 categories based on the highest ratings?\n",
        "\n",
        "> Average rating by product_category, and rank top 5.\n",
        "Example output:\n",
        "\n",
        "\n",
        "\n",
        "Home Appliances (4.5)\n",
        "\n",
        "Electronics (4.3)\n",
        "\n",
        "Books (4.2)\n",
        "\n",
        "Fashion (4.0)\n",
        "\n",
        "Health & Personal Care (3.9)\n",
        "\n",
        "\n",
        "---\n",
        "\n",
        "10. Identify any potential areas for improvement or optimization based on the data analysis.\n",
        "\n",
        "> Based on findings:\n",
        "\n",
        "\n",
        "\n",
        "Increase discounts in categories with lower ratings to boost sales.\n",
        "\n",
        "Focus marketing on high-rated but low-review-count products.\n",
        "\n",
        "Improve product quality in low-rated categories (like Fashion).\n",
        "\n",
        "Promote products with very good reviews more aggressively."
      ],
      "metadata": {
        "id": "I9OFz5MvqHZI"
      }
    },
    {
      "cell_type": "markdown",
      "source": [
        "# EDA - 4"
      ],
      "metadata": {
        "id": "adyp9WeLattA"
      }
    },
    {
      "cell_type": "markdown",
      "source": [
        "---\n",
        "\n",
        "1. Read the dataframe, check null values and duplicates.\n",
        "\n",
        "> If nulls found: drop or fill them (example: missing artist names, fill with \"Unknown\").\n",
        "\n",
        "Remove duplicate rows if any.\n",
        "\n",
        "\n",
        "\n",
        "\n",
        "\n",
        "---\n",
        "\n",
        "2. What is the distribution of popularity among tracks? (Histogram)\n",
        "\n",
        "> Most tracks have a popularity score between 30-70.\n",
        "\n",
        "Very few tracks have popularity >90.\n",
        "\n",
        "\n",
        "\n",
        "\n",
        "\n",
        "---\n",
        "\n",
        "3. Is there a relationship between popularity and duration? (Scatter plot)\n",
        "\n",
        "> Weak or no strong relationship.\n",
        "\n",
        "Long or short songs can be popular; duration does not affect popularity much.\n",
        "\n",
        "\n",
        "\n",
        "\n",
        "\n",
        "---\n",
        "\n",
        "4. Which artist has the highest number of tracks? (Countplot)\n",
        "\n",
        "> Example:\n",
        "\n",
        "\n",
        "\n",
        "Drake or Post Malone typically have the most tracks in such datasets.\n",
        "\n",
        "\n",
        "\n",
        "---\n",
        "\n",
        "5. What are the top 5 least popular tracks? (Artist + Track name)\n",
        "Example:\n",
        "\n",
        "Artist: Unknown Artist - Track: \"Untitled\" (Popularity: 0)\n",
        "\n",
        "(Usually unpopular or unrecognized tracks)\n",
        "\n",
        "\n",
        "\n",
        "---\n",
        "\n",
        "6. Among top 5 popular artists, who has the highest average popularity?\n",
        "\n",
        "> Calculate average popularity among top artists.\n",
        "Example:\n",
        "\n",
        "\n",
        "\n",
        "\n",
        "The Weeknd has higher average popularity compared to others like Ed Sheeran.\n",
        "\n",
        "\n",
        "\n",
        "---\n",
        "\n",
        "7. For the top 5 popular artists, what are their most popular tracks?\n",
        "Example:\n",
        "\n",
        "The Weeknd — \"Blinding Lights\"\n",
        "\n",
        "Ed Sheeran — \"Shape of You\"\n",
        "\n",
        "Drake — \"God’s Plan\"\n",
        "\n",
        "\n",
        "\n",
        "---\n",
        "\n",
        "8. Visualize relationships using a pairplot.\n",
        "\n",
        "> Shows slight patterns among features like popularity, duration_ms, etc.\n",
        "\n",
        "Correlations are weak but noticeable between energy-related features and popularity sometimes.\n",
        "\n",
        "\n",
        "\n",
        "\n",
        "\n",
        "---\n",
        "\n",
        "9. Does track duration vary across different artists? (Box/violin plot)\n",
        "\n",
        "> Yes, some artists (e.g., Post Malone) have longer average song durations compared to others (e.g., pop artists with shorter songs).\n",
        "\n",
        "\n",
        "\n",
        "\n",
        "\n",
        "---\n",
        "\n",
        "10. How does track popularity distribution vary across artists? (Swarm or Violin plot)\n",
        "\n",
        "> Popularity distribution is skewed for most artists — a few songs very popular, majority moderately or less popular."
      ],
      "metadata": {
        "id": "cDz0G4mYa4Tl"
      }
    }
  ]
}